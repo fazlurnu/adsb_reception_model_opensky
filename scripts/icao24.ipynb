{
 "cells": [
  {
   "cell_type": "code",
   "execution_count": null,
   "id": "9a0bd27e",
   "metadata": {},
   "outputs": [],
   "source": [
    "import pandas as pd\n",
    "import ast\n",
    "import os\n",
    "\n",
    "import matplotlib.pyplot as plt\n",
    "\n",
    "import cartopy.crs as ccrs\n",
    "import cartopy.feature as cfeature\n",
    "\n",
    "import numpy as np"
   ]
  },
  {
   "cell_type": "code",
   "execution_count": null,
   "id": "59132926",
   "metadata": {},
   "outputs": [],
   "source": [
    "directory_path = '../icao24_table'\n",
    "\n",
    "# List all files in the directory\n",
    "files = os.listdir(directory_path)\n",
    "\n",
    "df_list = []\n",
    "\n",
    "i = 0\n",
    "# Iterate through the files and read each one\n",
    "for file_name in files:\n",
    "    if(file_name != '.DS_Store'):\n",
    "        i = i+1\n",
    "        print(file_name)\n",
    "        print('{}/{}'.format(i, len(files)))\n",
    "        file_path = os.path.join(directory_path, file_name)\n",
    "        df_list.append(pd.read_csv(file_path))"
   ]
  },
  {
   "cell_type": "code",
   "execution_count": null,
   "id": "9735c4fb",
   "metadata": {},
   "outputs": [],
   "source": [
    "df = pd.concat(df_list, ignore_index=True)\n",
    "df.drop(df.columns[0], axis=1, inplace = True)\n",
    "\n",
    "# Replace '\\n' with a comma in all columns\n",
    "df['sensors'].replace('\\n', ',', regex=True, inplace=True)\n",
    "df['sensors'] = df['sensors'].apply(ast.literal_eval)\n",
    "\n",
    "df"
   ]
  },
  {
   "cell_type": "code",
   "execution_count": null,
   "id": "73e22f7e",
   "metadata": {},
   "outputs": [],
   "source": [
    "# df.drop_duplicates(subset=['rawmsg'], inplace = True)\n",
    "df.dropna(subset=['lat', 'lon'], inplace = True)"
   ]
  },
  {
   "cell_type": "code",
   "execution_count": null,
   "id": "e21eb27b",
   "metadata": {},
   "outputs": [],
   "source": [
    "plt.plot(df[df['icao24'] == 440018]['lon'], df[df['icao24'] == 440018]['lat'], alpha = 0.6)\n",
    "plt.plot(df[df['icao24'] == '4ca8e4']['lon'], df[df['icao24'] == '4ca8e4']['lat'], alpha = 0.6)\n",
    "plt.plot(df[df['icao24'] == '3461ce']['lon'], df[df['icao24'] == '3461ce']['lat'], alpha = 0.6)\n"
   ]
  },
  {
   "cell_type": "code",
   "execution_count": null,
   "id": "82321260",
   "metadata": {},
   "outputs": [],
   "source": [
    "serial_list = []\n",
    "\n",
    "print(len(df['sensors']))\n",
    "changed_once = False\n",
    "\n",
    "for i in range(len(df['sensors'])):\n",
    "    sensor_list_from_df = df['sensors'].iloc[i]\n",
    "\n",
    "    for sensor in sensor_list_from_df:\n",
    "        if(sensor['serial'] not in serial_list):\n",
    "            serial_list.append(sensor['serial'])"
   ]
  },
  {
   "cell_type": "code",
   "execution_count": null,
   "id": "4259907e",
   "metadata": {},
   "outputs": [],
   "source": [
    "df_receiver = pd.read_json('sensor_list.json')\n",
    "df_receiver['lat'] = df_receiver['position'].apply(lambda x: x['latitude'])\n",
    "df_receiver['lon'] = df_receiver['position'].apply(lambda x: x['longitude'])"
   ]
  },
  {
   "cell_type": "code",
   "execution_count": null,
   "id": "cc01e27c",
   "metadata": {},
   "outputs": [],
   "source": [
    "df_receiver = df_receiver[df_receiver['serial'].isin(serial_list)]\n",
    "df_receiver = df_receiver[(df_receiver['lon'] > -30) & (df_receiver['lon'] < 30)]"
   ]
  },
  {
   "cell_type": "code",
   "execution_count": null,
   "id": "9948d2aa",
   "metadata": {},
   "outputs": [],
   "source": [
    "df_receiver"
   ]
  },
  {
   "cell_type": "code",
   "execution_count": null,
   "id": "b66232c1",
   "metadata": {},
   "outputs": [],
   "source": [
    "plt.plot(df[df['icao24'] == 440018]['lon'], df[df['icao24'] == 440018]['lat'], alpha = 0.6)\n",
    "plt.plot(df[df['icao24'] == '4ca8e4']['lon'], df[df['icao24'] == '4ca8e4']['lat'], alpha = 0.6)\n",
    "plt.plot(df[df['icao24'] == '3461ce']['lon'], df[df['icao24'] == '3461ce']['lat'], alpha = 0.6)\n",
    "plt.scatter(df_receiver['lon'], df_receiver['lat'], alpha = 0.6)"
   ]
  },
  {
   "cell_type": "code",
   "execution_count": null,
   "id": "adc7622e",
   "metadata": {},
   "outputs": [],
   "source": [
    "import matplotlib.pyplot as plt\n",
    "import matplotlib.ticker as mticker\n",
    "import cartopy\n",
    "import cartopy.io.shapereader as shpreader\n",
    "import cartopy.crs as ccrs\n",
    "from cartopy.mpl.gridliner import LONGITUDE_FORMATTER, LATITUDE_FORMATTER\n",
    "\n",
    "ax = plt.axes(projection=ccrs.PlateCarree())\n",
    "ax.add_feature(cartopy.feature.COASTLINE, linestyle='-', alpha=0.7)\n",
    "ax.add_feature(cartopy.feature.BORDERS, linestyle='-', alpha=0.7)\n",
    "# ax.set_extent([-25, 40, 35, 70])  # Adjust the extent to focus on Europe\n",
    "\n",
    "shpfilename = shpreader.natural_earth(resolution='10m',\n",
    "                                      category='cultural',\n",
    "                                      name='admin_0_countries')\n",
    "reader = shpreader.Reader(shpfilename)\n",
    "countries = reader.records()\n",
    "\n",
    "# gl = ax.gridlines(crs=ccrs.PlateCarree(), draw_labels=True, color='gray', alpha=0.3, linestyle='--')\n",
    "# gl.right_labels = False\n",
    "# gl.top_labels = False\n",
    "# gl.xlines = False\n",
    "# gl.ylines = False\n",
    "# gl.xlocator = mticker.FixedLocator(range(-180, 181, 10))\n",
    "# gl.ylocator = mticker.FixedLocator(range(-90, 91, 10))\n",
    "# gl.xformatter = LONGITUDE_FORMATTER\n",
    "# gl.yformatter = LATITUDE_FORMATTER\n",
    "# gl.xlabel_style = {'size': 15, 'color': 'gray'}\n",
    "# gl.xlabel_style = {'color': 'red', 'weight': 'bold'}\n",
    "\n",
    "plt.plot(df[df['icao24'] == 440018]['lon'], df[df['icao24'] == 440018]['lat'], alpha = 1.0, color = 'red')\n",
    "plt.plot(df[df['icao24'] == '4ca8e4']['lon'], df[df['icao24'] == '4ca8e4']['lat'], alpha = 1.0, color = 'orange')\n",
    "plt.plot(df[df['icao24'] == '3461ce']['lon'], df[df['icao24'] == '3461ce']['lat'], alpha = 1.0, color = 'yellow')\n",
    "\n",
    "# plt.scatter(df_receiver['lon'], df_receiver['lat'], s = 90**2, color = 'khaki', alpha = 1.0)\n",
    "plt.scatter(df_receiver['lon'], df_receiver['lat'], linewidth = 0.6, alpha = 0.8, color = 'black')\n",
    "\n",
    "# ax.text(-0.1, 0.5, 'Latitude', va='bottom', ha='center',\n",
    "#         rotation='vertical', rotation_mode='anchor',\n",
    "#         transform=ax.transAxes)\n",
    "# ax.text(0.5, -0.1, 'Longitude', va='bottom', ha='center',\n",
    "#         rotation='horizontal', rotation_mode='anchor',\n",
    "#         transform=ax.transAxes)\n",
    "\n",
    "# plt.title('Tracked flight for jitter identification')\n",
    "\n",
    "plt.axis('square')\n",
    "\n",
    "plt.show()\n"
   ]
  },
  {
   "attachments": {},
   "cell_type": "markdown",
   "id": "2e162e62",
   "metadata": {},
   "source": [
    "## Get closest receiver for each data point"
   ]
  },
  {
   "cell_type": "code",
   "execution_count": null,
   "id": "1b1d242c",
   "metadata": {},
   "outputs": [],
   "source": [
    "def kwikdist(lata, lona, latb, lonb):\n",
    "    \"\"\"\n",
    "    Quick and dirty dist [km]\n",
    "    In:\n",
    "        lat/lon, lat/lon vectors [deg]\n",
    "    Out:\n",
    "        dist vector [nm]\n",
    "    \"\"\"\n",
    "\n",
    "    re      = 6371000.  # readius earth [m]\n",
    "    dlat    = np.radians(latb - lata)\n",
    "    dlon    = np.radians(((lonb - lona)+180)%360-180)\n",
    "    cavelat = np.cos(np.radians(lata + latb) * 0.5)\n",
    "\n",
    "    dangle  = np.sqrt(np.multiply(dlat, dlat) +\n",
    "                      np.multiply(np.multiply(dlon, dlon),\n",
    "                                  np.multiply(cavelat, cavelat)))\n",
    "\n",
    "    dist    = re * dangle / 1000\n",
    "\n",
    "    return dist"
   ]
  },
  {
   "cell_type": "code",
   "execution_count": null,
   "id": "8d2eb2c5",
   "metadata": {},
   "outputs": [],
   "source": [
    "#get_closest_receiver\n",
    "def get_closest_receiver(x):\n",
    "    global counter\n",
    "    \n",
    "    counter += 1\n",
    "    \n",
    "    print('{}/{}'.format(counter, max_counter))\n",
    "    closest_dist = 100000\n",
    "    closest_rec = -666\n",
    "    mintime = -1\n",
    "\n",
    "    for sensor in x:\n",
    "        if(len(df_receiver[df_receiver['serial'] == sensor['serial']]['lat']) > 0):\n",
    "            lat_rec = float(df_receiver[df_receiver['serial'] == sensor['serial']]['lat'])\n",
    "            lon_rec = float(df_receiver[df_receiver['serial'] == sensor['serial']]['lon'])\n",
    "                        \n",
    "            lat_ac = df.iloc[counter]['lat']\n",
    "            lon_ac = df.iloc[counter]['lon']\n",
    "\n",
    "            dist = kwikdist(lat_rec, lon_rec, lat_ac, lon_ac)\n",
    "\n",
    "            if(dist < closest_dist):\n",
    "                closest_dist = dist\n",
    "                closest_rec = sensor['serial']\n",
    "                mintime = sensor['mintime']\n",
    "\n",
    "    return closest_rec, closest_dist, mintime"
   ]
  },
  {
   "cell_type": "code",
   "execution_count": null,
   "id": "55585c1e",
   "metadata": {},
   "outputs": [],
   "source": [
    "global counter\n",
    "counter = -1\n",
    "max_counter = len(df['sensors'])\n",
    "\n",
    "df[['cl_rec', 'cl_dist', 'cl_mintime']] = df['sensors'].apply(lambda x: pd.Series(get_closest_receiver(x)))"
   ]
  },
  {
   "cell_type": "code",
   "execution_count": null,
   "id": "50cd94f8",
   "metadata": {},
   "outputs": [],
   "source": []
  },
  {
   "cell_type": "code",
   "execution_count": null,
   "id": "5170fc2b",
   "metadata": {},
   "outputs": [],
   "source": [
    "df_close = df[df['cl_dist'] < 10000]\n",
    "print(max(df_close['cl_dist']))"
   ]
  },
  {
   "cell_type": "code",
   "execution_count": null,
   "id": "522347c2",
   "metadata": {},
   "outputs": [],
   "source": [
    "import matplotlib.pyplot as plt\n",
    "import matplotlib.ticker as mticker\n",
    "import cartopy\n",
    "import cartopy.io.shapereader as shpreader\n",
    "import cartopy.crs as ccrs\n",
    "from cartopy.mpl.gridliner import LONGITUDE_FORMATTER, LATITUDE_FORMATTER\n",
    "\n",
    "ax = plt.axes(projection=ccrs.PlateCarree())\n",
    "ax.add_feature(cartopy.feature.COASTLINE, linestyle='-', alpha=0.7)\n",
    "ax.add_feature(cartopy.feature.BORDERS, linestyle='-', alpha=0.7)\n",
    "# ax.set_extent([-25, 40, 35, 70])  # Adjust the extent to focus on Europe\n",
    "\n",
    "shpfilename = shpreader.natural_earth(resolution='10m',\n",
    "                                      category='cultural',\n",
    "                                      name='admin_0_countries')\n",
    "reader = shpreader.Reader(shpfilename)\n",
    "countries = reader.records()\n",
    "\n",
    "df_close = df.iloc[0:300]\n",
    "# gl = ax.gridlines(crs=ccrs.PlateCarree(), draw_labels=True, color='gray', alpha=0.3, linestyle='--')\n",
    "# gl.right_labels = False\n",
    "# gl.top_labels = False\n",
    "# gl.xlines = False\n",
    "# gl.ylines = False\n",
    "# gl.xlocator = mticker.FixedLocator(range(-180, 181, 10))\n",
    "# gl.ylocator = mticker.FixedLocator(range(-90, 91, 10))\n",
    "# gl.xformatter = LONGITUDE_FORMATTER\n",
    "# gl.yformatter = LATITUDE_FORMATTER\n",
    "# gl.xlabel_style = {'size': 15, 'color': 'gray'}\n",
    "# gl.xlabel_style = {'color': 'red', 'weight': 'bold'}\n",
    "\n",
    "plt.plot(df_close[df_close['icao24'] == 440018]['lon'], df_close[df_close['icao24'] == 440018]['lat'], alpha = 1.0, color = 'red')\n",
    "plt.plot(df_close[df_close['icao24'] == '4ca8e4']['lon'], df_close[df_close['icao24'] == '4ca8e4']['lat'], alpha = 1.0, color = 'orange')\n",
    "plt.plot(df_close[df_close['icao24'] == '3461ce']['lon'], df_close[df_close['icao24'] == '3461ce']['lat'], alpha = 1.0, color = 'yellow')\n",
    "\n",
    "# plt.scatter(df_receiver['lon'], df_receiver['lat'], s = 90**2, color = 'khaki', alpha = 1.0)\n",
    "plt.scatter(df_receiver['lon'], df_receiver['lat'], linewidth = 0.6, alpha = 0.8, color = 'black')\n",
    "\n",
    "# ax.text(-0.1, 0.5, 'Latitude', va='bottom', ha='center',\n",
    "#         rotation='vertical', rotation_mode='anchor',\n",
    "#         transform=ax.transAxes)\n",
    "# ax.text(0.5, -0.1, 'Longitude', va='bottom', ha='center',\n",
    "#         rotation='horizontal', rotation_mode='anchor',\n",
    "#         transform=ax.transAxes)\n",
    "\n",
    "# plt.title('Tracked flight for jitter identification')\n",
    "\n",
    "plt.axis('square')\n",
    "\n",
    "plt.show()\n"
   ]
  },
  {
   "cell_type": "code",
   "execution_count": null,
   "id": "6278b744",
   "metadata": {},
   "outputs": [],
   "source": [
    "df = df[df['cl_mintime'] > 1]\n",
    "df"
   ]
  },
  {
   "cell_type": "code",
   "execution_count": null,
   "id": "7458cc5a",
   "metadata": {},
   "outputs": [],
   "source": [
    "icao24_list = list(df['icao24'].unique())\n",
    "df_icao24 = []\n",
    "\n",
    "for ic in icao24_list:\n",
    "    df_icao24.append(df[df['icao24'] == ic])"
   ]
  },
  {
   "cell_type": "code",
   "execution_count": null,
   "id": "9020e79d",
   "metadata": {},
   "outputs": [],
   "source": [
    "update_interval_here = []\n",
    "\n",
    "for df_local in df_icao24:\n",
    "    rec_list = list(df_local['cl_rec'].unique())\n",
    "    \n",
    "    prev_mintime = 1000\n",
    "    prev_cl_rec = 'here'\n",
    "    \n",
    "    for rec in rec_list:\n",
    "        df_rec = df_local[df_local['cl_rec'] == rec]\n",
    "        \n",
    "        \n",
    "        for index, row in df_rec.iterrows():\n",
    "            curr_mintime = row.cl_mintime\n",
    "            curr_cl_rec = row.cl_rec\n",
    "            \n",
    "            diff = curr_mintime - prev_mintime\n",
    "            print(diff)\n",
    "            \n",
    "            prev_mintime = curr_mintime\n",
    "            prev_cl_rec = row.cl_rec\n",
    "            \n",
    "            if(diff < 0.75):\n",
    "                update_interval_here.append(diff)\n",
    "    \n",
    "update_interval_here\n",
    "# update_interval_here = [item for sublist in update_interval_here for item in sublist]"
   ]
  },
  {
   "cell_type": "code",
   "execution_count": null,
   "id": "07c87047",
   "metadata": {},
   "outputs": [],
   "source": [
    "update_interval_here = np.array(update_interval_here)\n",
    "update_interval_here = update_interval_here[update_interval_here < 2]"
   ]
  },
  {
   "cell_type": "code",
   "execution_count": null,
   "id": "00742681",
   "metadata": {},
   "outputs": [],
   "source": [
    "start = 0.25\n",
    "end = 0.75\n",
    "nb_of_bar = 40\n",
    "\n",
    "input_list = np.array(df['updateinterval'].to_list())\n",
    "\n",
    "bins = np.linspace(start, end, int(((end-start)*nb_of_bar+1)))\n",
    "weightsa = np.ones_like(input_list)/float(len(input_list))\n",
    "freq_, edge_ = np.histogram(input_list, bins, weights = weightsa)\n",
    "\n",
    "within_5s = sum(freq_[(edge_[:-1] <= 0.75) & (edge_[:-1] >= 0.25)])*100\n",
    "print(within_5s)\n",
    "\n",
    "plt.bar(edge_[:-1], freq_*100, width = 1/nb_of_bar, edgecolor = 'k')\n",
    "plt.xlabel('Time [s]')\n",
    "plt.ylabel('Reception Probability [%]')"
   ]
  },
  {
   "cell_type": "code",
   "execution_count": null,
   "id": "d13396ce",
   "metadata": {},
   "outputs": [],
   "source": [
    "edge_perfect = []\n",
    "probability_perfect = []\n",
    "prob = 0.8\n",
    "\n",
    "for i in range(5):\n",
    "    edge_perfect.append(0.5 * (i+1))\n",
    "    \n",
    "    prob_now = prob*(1-prob)**i\n",
    "    \n",
    "    probability_perfect.append(prob_now)\n",
    "    \n",
    "probability_perfect = np.array(probability_perfect)\n",
    "edge_perfect = np.array(edge_perfect)\n",
    "print(probability_perfect)\n",
    "\n",
    "plt.bar(edge_perfect, probability_perfect*100, width = 1/10, edgecolor = 'k')\n",
    "plt.xlabel('Time [s]')\n",
    "plt.ylabel('Frequency [%]')"
   ]
  },
  {
   "cell_type": "code",
   "execution_count": null,
   "id": "4a37c03d",
   "metadata": {},
   "outputs": [],
   "source": [
    "start = 0.0\n",
    "end = 4.0\n",
    "nb_of_bar = 20\n",
    "\n",
    "input_list = df['updateinterval'].to_list()\n",
    "\n",
    "bins = np.linspace(start, end, int(((end-start)*nb_of_bar+1)))\n",
    "weightsa = np.ones_like(input_list)/float(len(input_list))\n",
    "freq_, edge_ = np.histogram(input_list, bins, weights = weightsa)\n",
    "\n",
    "within_5s = sum(freq_[(edge_[:-1] <= 0.75) & (edge_[:-1] >= 0.25)])*100\n",
    "print(within_5s)\n",
    "\n",
    "plt.bar(edge_[:-1], freq_*100, width = 1/nb_of_bar, edgecolor = 'k')\n",
    "plt.xlabel('Time [s]')\n",
    "plt.ylabel('Reception Probability [%]')"
   ]
  },
  {
   "attachments": {},
   "cell_type": "markdown",
   "id": "0adbbb45",
   "metadata": {},
   "source": [
    "## How to calculate only between the same receiver if consecutive"
   ]
  },
  {
   "cell_type": "code",
   "execution_count": null,
   "id": "cb3b10a4",
   "metadata": {},
   "outputs": [],
   "source": [
    "# icao_list = [440018, '3461ce', '4ca8e4']\n",
    "\n",
    "# df_new = []\n",
    "\n",
    "# for icao in icao_list:\n",
    "#     df_ = df[df['icao24'] == icao]\n",
    "\n",
    "#     df_grouped = df_.groupby('cl_rec', group_keys=True).apply(lambda x: x)\n",
    "#     df_grouped['updateinterval'] = df_grouped['cl_mintime'].diff()\n",
    "\n",
    "#     df_grouped = df_grouped[(df_grouped['updateinterval'] > 0.0) & (df_grouped['updateinterval'] < 10)]\n",
    "#     df_ = df_grouped.reset_index(drop=True)\n",
    "    \n",
    "#     df_new.append(df_)\n",
    "    \n",
    "# df_new = pd.concat(df_new)"
   ]
  },
  {
   "cell_type": "code",
   "execution_count": null,
   "id": "c59e2c92",
   "metadata": {},
   "outputs": [],
   "source": [
    "df_grouped = df.groupby('icao24', group_keys=True).apply(lambda x: x)\n",
    "df_grouped['updateinterval'] = df_grouped['mintime'].diff()\n",
    "\n",
    "df_grouped = df_grouped[(df_grouped['updateinterval'] > 0.0) & (df_grouped['updateinterval'] < 2)]\n",
    "df = df_grouped.reset_index(drop=True)"
   ]
  },
  {
   "cell_type": "code",
   "execution_count": null,
   "id": "3c2da2fe",
   "metadata": {},
   "outputs": [],
   "source": []
  },
  {
   "cell_type": "code",
   "execution_count": null,
   "id": "6e67f4b8",
   "metadata": {},
   "outputs": [],
   "source": [
    "start = 0.0\n",
    "end = 2.0\n",
    "nb_of_bar = 20\n",
    "\n",
    "input_list = df['updateinterval'].to_list()\n",
    "\n",
    "bins = np.linspace(start, end, int(((end-start)*nb_of_bar+1)))\n",
    "weightsa = np.ones_like(input_list)/float(len(input_list))\n",
    "freq_, edge_ = np.histogram(input_list, bins, weights = weightsa)\n",
    "\n",
    "within_5s = sum(freq_[(edge_[:-1] <= 0.75) & (edge_[:-1] >= 0.25)])*100\n",
    "within_next_5s = sum(freq_[(edge_[:-1] <= 1.25) & (edge_[:-1] >= 0.75)])*100\n",
    "within_next_next_5s = sum(freq_[(edge_[:-1] <= 1.75) & (edge_[:-1] >= 1.25)])*100\n",
    "\n",
    "print(within_5s, within_next_5s, within_next_next_5s, (within_5s + within_next_5s + within_next_next_5s))\n",
    "\n",
    "plt.bar(edge_[:-1], freq_*100, width = 1/nb_of_bar, edgecolor = 'k')\n",
    "plt.xlabel('Time [s]')\n",
    "plt.ylabel('Frequency [%]')"
   ]
  },
  {
   "cell_type": "code",
   "execution_count": null,
   "id": "5e1f7bbd",
   "metadata": {},
   "outputs": [],
   "source": [
    "here1 = sum(freq_[edge_[:-1] < 0.25]*100)\n",
    "here2 = sum(freq_[(edge_[:-1] > 0.25) & (edge_[:-1] < 0.75)]*100)\n",
    "here3 = sum(freq_[(edge_[:-1] > 0.75) & (edge_[:-1] < 1.25)]*100)\n",
    "\n",
    "print(here1, here2, here3)\n",
    "print(here1+here2+here3)"
   ]
  },
  {
   "cell_type": "code",
   "execution_count": null,
   "id": "0e67e1fe",
   "metadata": {},
   "outputs": [],
   "source": [
    "100-24.8-68.6"
   ]
  },
  {
   "cell_type": "code",
   "execution_count": null,
   "id": "591bc204",
   "metadata": {},
   "outputs": [],
   "source": [
    "start = 0.0\n",
    "end = 2.0\n",
    "nb_of_bar = 50\n",
    "\n",
    "df_here = df[(df['updateinterval'] > start) & (df['updateinterval'] < end)]\n",
    "input_list = df_here['updateinterval'].to_list()\n",
    "\n",
    "bins = np.linspace(start, end, int(((end-start)*nb_of_bar+1)))\n",
    "weightsa = np.ones_like(input_list)/float(len(input_list))\n",
    "freq_, edge_ = np.histogram(input_list, bins, weights = weightsa)\n",
    "\n",
    "fig, axes = plt.subplots(nrows=1, ncols=2, figsize=(10, 5))\n",
    "\n",
    "axes[0].bar(edge_[:-1], freq_*100, width = 1/nb_of_bar, edgecolor = 'k')\n",
    "axes[0].set_xlabel('Time [s]')\n",
    "axes[0].set_ylabel('Frequency [%]')\n",
    "\n",
    "start = 0.25\n",
    "end = 0.75\n",
    "nb_of_bar = 50\n",
    "\n",
    "input_list = df['updateinterval'].to_list()\n",
    "\n",
    "bins = np.linspace(start, end, int(((end-start)*nb_of_bar+1)))\n",
    "weightsa = np.ones_like(input_list)/float(len(input_list))\n",
    "freq_, edge_ = np.histogram(input_list, bins, weights = weightsa)\n",
    "\n",
    "axes[1].bar(edge_[:-1], freq_*100, width = 1/nb_of_bar, edgecolor = 'k')\n",
    "axes[1].set_xlabel('Time [s]')\n",
    "# axes[1].ylabel('Reception Probability [%]')\n",
    "\n",
    "fig.tight_layout()\n",
    "\n",
    "within_5s = sum(freq_[(edge_[:-1] <= 0.75) & (edge_[:-1] >= 0.25)])*100\n",
    "print(within_5s)"
   ]
  },
  {
   "cell_type": "code",
   "execution_count": null,
   "id": "fdd5c198",
   "metadata": {},
   "outputs": [],
   "source": [
    "def get_cum(freq):\n",
    "    cum_list = []\n",
    "    cum = 0\n",
    "    \n",
    "    for f in freq:\n",
    "        cum += f\n",
    "        cum_list.append(cum)\n",
    "        \n",
    "    return np.array(cum_list)"
   ]
  },
  {
   "cell_type": "code",
   "execution_count": null,
   "id": "f3fe9d78",
   "metadata": {},
   "outputs": [],
   "source": [
    "cum_list = get_cum(freq_)\n",
    "print(cum_list)\n",
    "\n",
    "plt.plot(edge_[:-1], cum_list)"
   ]
  },
  {
   "attachments": {},
   "cell_type": "markdown",
   "id": "bf83dcd9",
   "metadata": {},
   "source": [
    "## Freq Analysis"
   ]
  },
  {
   "cell_type": "code",
   "execution_count": null,
   "id": "89e31ea6",
   "metadata": {},
   "outputs": [],
   "source": [
    "def get_freq_domain(y, Fs):\n",
    "    n = len(y)                       # length of the signal\n",
    "    k = np.arange(n)\n",
    "    T = n/Fs\n",
    "    frq = k/T # two sides frequency range\n",
    "    freq = frq[range(int(n/2))]           # one side frequency range\n",
    "\n",
    "    Y = np.fft.fft(y)/n              # fft computing and normalization\n",
    "    Y = Y[range(int(n/2))]\n",
    "    PSD = Y * np.conj(Y)\n",
    "\n",
    "    return freq, Y"
   ]
  },
  {
   "cell_type": "code",
   "execution_count": null,
   "id": "eaaaa006",
   "metadata": {},
   "outputs": [],
   "source": [
    "start = 0.2\n",
    "end = 0.8\n",
    "clearance = 0.05\n",
    "nb_of_bar = 50\n",
    "\n",
    "df_here = df[(df['updateinterval'] > start + clearance) & (df['updateinterval'] < end - clearance)]\n",
    "input_list = df_here['updateinterval'].to_list()\n",
    "\n",
    "bins = np.linspace(start, end, int(((end-start)*nb_of_bar+1)))\n",
    "weightsa = np.ones_like(input_list)/float(len(input_list))\n",
    "freq_, edge_ = np.histogram(input_list, bins, weights = weightsa)\n",
    "\n",
    "plt.bar(edge_[:-1], freq_*100, width = 1/nb_of_bar, edgecolor = 'k')\n",
    "plt.xlabel('Time [s]')\n",
    "plt.ylabel('Reception Probability [%]')\n",
    "\n",
    "within_5s = sum(freq_[(edge_[:-1] <= 0.75) & (edge_[:-1] >= 0.25)])*100\n",
    "print(within_5s)"
   ]
  },
  {
   "cell_type": "code",
   "execution_count": null,
   "id": "2f5c9d4c",
   "metadata": {},
   "outputs": [],
   "source": [
    "fq, Y = get_freq_domain(freq_, nb_of_bar)\n",
    "\n",
    "plt.subplot(2,1,1)\n",
    "plt.bar(edge_[:-1], freq_*100, width = 1/nb_of_bar, edgecolor = 'k')\n",
    "plt.xlabel('time')\n",
    "plt.ylabel('amplitude')\n",
    "\n",
    "plt.subplot(2,1,2)\n",
    "\n",
    "plt.plot(fq, abs(Y), 'r-')\n",
    "plt.xlabel('freq (Hz)')\n",
    "plt.ylabel('|Y(freq)|')\n",
    "plt.xlim([0, 20])"
   ]
  }
 ],
 "metadata": {
  "kernelspec": {
   "display_name": "Python 3 (ipykernel)",
   "language": "python",
   "name": "python3"
  },
  "language_info": {
   "codemirror_mode": {
    "name": "ipython",
    "version": 3
   },
   "file_extension": ".py",
   "mimetype": "text/x-python",
   "name": "python",
   "nbconvert_exporter": "python",
   "pygments_lexer": "ipython3",
   "version": "3.10.12"
  }
 },
 "nbformat": 4,
 "nbformat_minor": 5
}
