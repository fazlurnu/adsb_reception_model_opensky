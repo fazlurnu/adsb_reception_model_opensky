{
 "cells": [
  {
   "cell_type": "code",
   "execution_count": 16,
   "id": "1abbb8ac",
   "metadata": {},
   "outputs": [],
   "source": [
    "import pandas as pd\n",
    "import os\n",
    "\n",
    "df = pd.read_csv('../../sensor_pos_data/all_sensor_20220101_0_12_data.csv')"
   ]
  },
  {
   "cell_type": "code",
   "execution_count": 17,
   "id": "99d92d96",
   "metadata": {},
   "outputs": [
    {
     "data": {
      "text/html": [
       "<div>\n",
       "<style scoped>\n",
       "    .dataframe tbody tr th:only-of-type {\n",
       "        vertical-align: middle;\n",
       "    }\n",
       "\n",
       "    .dataframe tbody tr th {\n",
       "        vertical-align: top;\n",
       "    }\n",
       "\n",
       "    .dataframe thead th {\n",
       "        text-align: right;\n",
       "    }\n",
       "</style>\n",
       "<table border=\"1\" class=\"dataframe\">\n",
       "  <thead>\n",
       "    <tr style=\"text-align: right;\">\n",
       "      <th></th>\n",
       "      <th>sensors</th>\n",
       "      <th>rawmsg</th>\n",
       "      <th>icao24</th>\n",
       "      <th>lat</th>\n",
       "      <th>lon</th>\n",
       "      <th>alt</th>\n",
       "    </tr>\n",
       "  </thead>\n",
       "  <tbody>\n",
       "    <tr>\n",
       "      <th>0</th>\n",
       "      <td>[{'maxtime': 1640995211.137, 'mintime': 164099...</td>\n",
       "      <td>90392b1b281004812631786c5e54</td>\n",
       "      <td>392b1b</td>\n",
       "      <td>49.005948</td>\n",
       "      <td>2.597255</td>\n",
       "      <td>0.00</td>\n",
       "    </tr>\n",
       "    <tr>\n",
       "      <th>1</th>\n",
       "      <td>[{'maxtime': 1640995216.594, 'mintime': 164099...</td>\n",
       "      <td>90392b1b281002aeba403e54e7e0</td>\n",
       "      <td>392b1b</td>\n",
       "      <td>49.005947</td>\n",
       "      <td>2.597245</td>\n",
       "      <td>0.00</td>\n",
       "    </tr>\n",
       "    <tr>\n",
       "      <th>2</th>\n",
       "      <td>[{'maxtime': 1640995202.368, 'mintime': 164099...</td>\n",
       "      <td>8dc0058658b502da02f0bea3c360</td>\n",
       "      <td>c00586</td>\n",
       "      <td>52.277390</td>\n",
       "      <td>4.701996</td>\n",
       "      <td>10668.00</td>\n",
       "    </tr>\n",
       "    <tr>\n",
       "      <th>3</th>\n",
       "      <td>[{'maxtime': 1640995202.72, 'mintime': 1640995...</td>\n",
       "      <td>8dc0058658b5064548ea25e96b82</td>\n",
       "      <td>c00586</td>\n",
       "      <td>52.277232</td>\n",
       "      <td>4.703796</td>\n",
       "      <td>10668.00</td>\n",
       "    </tr>\n",
       "    <tr>\n",
       "      <th>4</th>\n",
       "      <td>[{'maxtime': 1640995203.273, 'mintime': 164099...</td>\n",
       "      <td>8dc0058658b5164540ea41b51f8c</td>\n",
       "      <td>c00586</td>\n",
       "      <td>52.277046</td>\n",
       "      <td>4.705994</td>\n",
       "      <td>10675.62</td>\n",
       "    </tr>\n",
       "    <tr>\n",
       "      <th>...</th>\n",
       "      <td>...</td>\n",
       "      <td>...</td>\n",
       "      <td>...</td>\n",
       "      <td>...</td>\n",
       "      <td>...</td>\n",
       "      <td>...</td>\n",
       "    </tr>\n",
       "    <tr>\n",
       "      <th>2287668</th>\n",
       "      <td>[{'serial': 1673032797, 'mintime': 1641037552....</td>\n",
       "      <td>8d40098158bf03157b3ce2206a31</td>\n",
       "      <td>400981</td>\n",
       "      <td>46.625839</td>\n",
       "      <td>-3.346141</td>\n",
       "      <td>11277.60</td>\n",
       "    </tr>\n",
       "    <tr>\n",
       "      <th>2287669</th>\n",
       "      <td>[{'serial': 1673032797, 'mintime': 1641037554....</td>\n",
       "      <td>8d40098158bf0314e73cd4642196</td>\n",
       "      <td>400981</td>\n",
       "      <td>46.622452</td>\n",
       "      <td>-3.347079</td>\n",
       "      <td>11277.60</td>\n",
       "    </tr>\n",
       "    <tr>\n",
       "      <th>2287670</th>\n",
       "      <td>[{'serial': 1673032797, 'mintime': 1641037556....</td>\n",
       "      <td>8d40098158bf068fb141876ad8bd</td>\n",
       "      <td>400981</td>\n",
       "      <td>46.618901</td>\n",
       "      <td>-3.348152</td>\n",
       "      <td>11277.60</td>\n",
       "    </tr>\n",
       "    <tr>\n",
       "      <th>2287671</th>\n",
       "      <td>[{'serial': 1673032797, 'mintime': 1641037557....</td>\n",
       "      <td>8d40098158bf0313f93cbc2afe0d</td>\n",
       "      <td>400981</td>\n",
       "      <td>46.617004</td>\n",
       "      <td>-3.348686</td>\n",
       "      <td>11277.60</td>\n",
       "    </tr>\n",
       "    <tr>\n",
       "      <th>2287672</th>\n",
       "      <td>[{'serial': 1673032797, 'mintime': 1641037559....</td>\n",
       "      <td>8d40098158bf0313573cacc73ddf</td>\n",
       "      <td>400981</td>\n",
       "      <td>46.613297</td>\n",
       "      <td>-3.349758</td>\n",
       "      <td>11277.60</td>\n",
       "    </tr>\n",
       "  </tbody>\n",
       "</table>\n",
       "<p>2287673 rows × 6 columns</p>\n",
       "</div>"
      ],
      "text/plain": [
       "                                                   sensors  \\\n",
       "0        [{'maxtime': 1640995211.137, 'mintime': 164099...   \n",
       "1        [{'maxtime': 1640995216.594, 'mintime': 164099...   \n",
       "2        [{'maxtime': 1640995202.368, 'mintime': 164099...   \n",
       "3        [{'maxtime': 1640995202.72, 'mintime': 1640995...   \n",
       "4        [{'maxtime': 1640995203.273, 'mintime': 164099...   \n",
       "...                                                    ...   \n",
       "2287668  [{'serial': 1673032797, 'mintime': 1641037552....   \n",
       "2287669  [{'serial': 1673032797, 'mintime': 1641037554....   \n",
       "2287670  [{'serial': 1673032797, 'mintime': 1641037556....   \n",
       "2287671  [{'serial': 1673032797, 'mintime': 1641037557....   \n",
       "2287672  [{'serial': 1673032797, 'mintime': 1641037559....   \n",
       "\n",
       "                               rawmsg  icao24        lat       lon       alt  \n",
       "0        90392b1b281004812631786c5e54  392b1b  49.005948  2.597255      0.00  \n",
       "1        90392b1b281002aeba403e54e7e0  392b1b  49.005947  2.597245      0.00  \n",
       "2        8dc0058658b502da02f0bea3c360  c00586  52.277390  4.701996  10668.00  \n",
       "3        8dc0058658b5064548ea25e96b82  c00586  52.277232  4.703796  10668.00  \n",
       "4        8dc0058658b5164540ea41b51f8c  c00586  52.277046  4.705994  10675.62  \n",
       "...                               ...     ...        ...       ...       ...  \n",
       "2287668  8d40098158bf03157b3ce2206a31  400981  46.625839 -3.346141  11277.60  \n",
       "2287669  8d40098158bf0314e73cd4642196  400981  46.622452 -3.347079  11277.60  \n",
       "2287670  8d40098158bf068fb141876ad8bd  400981  46.618901 -3.348152  11277.60  \n",
       "2287671  8d40098158bf0313f93cbc2afe0d  400981  46.617004 -3.348686  11277.60  \n",
       "2287672  8d40098158bf0313573cacc73ddf  400981  46.613297 -3.349758  11277.60  \n",
       "\n",
       "[2287673 rows x 6 columns]"
      ]
     },
     "execution_count": 17,
     "metadata": {},
     "output_type": "execute_result"
    }
   ],
   "source": [
    "df"
   ]
  },
  {
   "cell_type": "code",
   "execution_count": 15,
   "id": "87066121",
   "metadata": {},
   "outputs": [],
   "source": [
    "west_bound = df_sensor_loc['lon'].min() - (max_radius_NM / NM_per_degree)\n",
    "east_bound = df_sensor_loc['lon'].max() + (max_radius_NM / NM_per_degree)\n",
    "south_bound = df_sensor_loc['lat'].min() - (max_radius_NM / NM_per_degree)\n",
    "north_bound = df_sensor_loc['lat'].max() + (max_radius_NM / NM_per_degree)\n",
    "\n",
    "bounds = (west_bound, south_bound, east_bound, north_bound)  # Define bounds as a tuple"
   ]
  },
  {
   "cell_type": "code",
   "execution_count": 19,
   "id": "20d0cf4d",
   "metadata": {},
   "outputs": [
    {
     "data": {
      "text/plain": [
       "(-11.8, 43.5, 18.5, 60.6)"
      ]
     },
     "execution_count": 19,
     "metadata": {},
     "output_type": "execute_result"
    }
   ],
   "source": [
    "bounds"
   ]
  },
  {
   "cell_type": "code",
   "execution_count": 22,
   "id": "b7e430fd",
   "metadata": {},
   "outputs": [
    {
     "data": {
      "text/plain": [
       "-171.50054931640625"
      ]
     },
     "execution_count": 22,
     "metadata": {},
     "output_type": "execute_result"
    }
   ],
   "source": [
    "df['lon'].min()"
   ]
  },
  {
   "cell_type": "code",
   "execution_count": 24,
   "id": "5b0c1962",
   "metadata": {},
   "outputs": [
    {
     "data": {
      "text/plain": [
       "(array([1.000000e+00, 0.000000e+00, 0.000000e+00, 0.000000e+00,\n",
       "        1.000000e+00, 0.000000e+00, 0.000000e+00, 0.000000e+00,\n",
       "        6.922350e+05, 1.595436e+06]),\n",
       " array([-171.50054932, -152.15389685, -132.80724438, -113.46059191,\n",
       "         -94.11393944,  -74.76728697,  -55.4206345 ,  -36.07398203,\n",
       "         -16.72732956,    2.61932291,   21.96597537]),\n",
       " <BarContainer object of 10 artists>)"
      ]
     },
     "execution_count": 24,
     "metadata": {},
     "output_type": "execute_result"
    },
    {
     "data": {
      "image/png": "[encoded data removed]",
      "text/plain": [
       "<Figure size 640x480 with 1 Axes>"
      ]
     },
     "metadata": {},
     "output_type": "display_data"
    }
   ],
   "source": [
    "import matplotlib.pyplot as plt\n",
    "\n",
    "plt.hist(df['lon'])"
   ]
  }
 ],
 "metadata": {
  "kernelspec": {
   "display_name": "Python 3 (ipykernel)",
   "language": "python",
   "name": "python3"
  },
  "language_info": {
   "codemirror_mode": {
    "name": "ipython",
    "version": 3
   },
   "file_extension": ".py",
   "mimetype": "text/x-python",
   "name": "python",
   "nbconvert_exporter": "python",
   "pygments_lexer": "ipython3",
   "version": "3.10.12"
  }
 },
 "nbformat": 4,
 "nbformat_minor": 5
}
